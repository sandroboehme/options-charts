{
 "cells": [
  {
   "cell_type": "markdown",
   "id": "3b71c74f-5081-46e0-8fc0-fc10027940b5",
   "metadata": {},
   "source": [
    "## TradingView test"
   ]
  },
  {
   "cell_type": "code",
   "execution_count": 3,
   "id": "bb275db5-3628-48e9-954e-15095851fd71",
   "metadata": {
    "tags": []
   },
   "outputs": [],
   "source": [
    "from ipywidgets import widgets\n",
    "from IPython.display import display\n",
    "from IPython.display import HTML\n"
   ]
  },
  {
   "cell_type": "code",
   "execution_count": 5,
   "id": "cbcfbc1a-d8cb-41fa-a232-4669df418985",
   "metadata": {},
   "outputs": [],
   "source": [
    "#chart_id = \"Y00h1SDe\"\n",
    "\n",
    "# Create the HTML code for the TradingView chart widget\n",
    "#widget_code = f'<iframe src=\"https://s.tradingview.com/widgetembed/?frameElementId=tradingview_{chart_id}&symbol=BTCUSD&interval=60&hidesidetoolbar=1&symboledit=1&saveimage=0&toolbarbg=f1f3f6&studies=%5B%5D&theme=light&style=1&timezone=America%2FNew_York&withdateranges=1&showpopupbutton=1&popupwidth=1000&popupheight=650&locale=en&utm_source=www.tradingview.com&utm_medium=widget_new&utm_campaign=chart&utm_term=BTCUSD\" style=\"width: 100%; height: 500px;\" frameborder=\"0\"></iframe>'\n",
    "\n",
    "# Display the TradingView chart widget\n",
    "#display(HTML(widget_code))"
   ]
  },
  {
   "cell_type": "code",
   "execution_count": 11,
   "id": "23ca6ba4-bcbe-45c2-81f4-084d6569179e",
   "metadata": {
    "tags": []
   },
   "outputs": [],
   "source": [
    "#tradingview_widget = TradingViewWidget(symbol='AAPL', interval='D')\n",
    "\n",
    "# Set any additional chart data using the set_data() method\n",
    "#tradingview_widget.set_data({'range': '1y'})\n",
    "\n",
    "# Display the widget in the notebook\n",
    "#display(tradingview_widget)\n"
   ]
  },
  {
   "cell_type": "code",
   "execution_count": 24,
   "id": "de696826-6c10-4a0a-b163-b0d620e8187b",
   "metadata": {
    "tags": []
   },
   "outputs": [
    {
     "data": {
      "text/plain": [
       "'1669849200000'"
      ]
     },
     "execution_count": 24,
     "metadata": {},
     "output_type": "execute_result"
    }
   ],
   "source": [
    "\n",
    "end_date = datetime(2022, 12, 1)\n",
    "end_date_str = str(int(end_date.timestamp() * 1000))\n",
    "end_date_str"
   ]
  },
  {
   "cell_type": "code",
   "execution_count": null,
   "id": "8045296f-1fac-4331-850f-0df24adb7b6a",
   "metadata": {},
   "outputs": [],
   "source": [
    "    range = f'{timeframe}A' if enddate is None else f'{enddate}/{timeframe}A'\n"
   ]
  },
  {
   "cell_type": "code",
   "execution_count": 45,
   "id": "9cfdecc6-80a2-4904-b40f-49c3db1d6496",
   "metadata": {
    "tags": []
   },
   "outputs": [
    {
     "data": {
      "text/html": [
       "\n",
       "        <script type=\"text/javascript\" src=\"https://s3.tradingview.com/tv.js\"></script>\n",
       "        <div id=\"tv_chart_container\"></div>\n",
       "        <script type=\"text/javascript\">\n",
       "        new TradingView.widget(\n",
       "        {\n",
       "          \"width\": \"100%\",\n",
       "          \"height\": 600,\n",
       "          \"symbol\": \"Binance:BTCUSD\",\n",
       "          \"interval\": \"D\",\n",
       "          \"timezone\": \"Etc/UTC\",\n",
       "          \"theme\": \"dark\",\n",
       "          \"style\": \"1\",\n",
       "          \"locale\": \"en\",\n",
       "          \"toolbar_bg\": \"#f1f3f6\",\n",
       "          \"enable_publishing\": false,\n",
       "          \"allow_symbol_change\": true,\n",
       "          \"timeframe\": \"{ from: 1640995200, to: 1643673600 }\",\n",
       "          \"enddate\": \"2021-04-30\",\n",
       "          \"container_id\": \"tv_chart_container\"\n",
       "        }\n",
       "        );\n",
       "        </script>\n",
       "    "
      ],
      "text/plain": [
       "<IPython.core.display.HTML object>"
      ]
     },
     "metadata": {},
     "output_type": "display_data"
    },
    {
     "data": {
      "application/vnd.jupyter.widget-view+json": {
       "model_id": "ae5a55c71c904e1fb0964f5c29bc1c10",
       "version_major": 2,
       "version_minor": 0
      },
      "text/plain": [
       "TradingView(symbol='Binance:BTCUSD')"
      ]
     },
     "execution_count": 45,
     "metadata": {},
     "output_type": "execute_result"
    }
   ],
   "source": [
    "from IPython.display import HTML\n",
    "import ipywidgets as widgets\n",
    "from traitlets import Unicode\n",
    "from datetime import datetime\n",
    "\n",
    "end_date = datetime(2022, 12, 1)\n",
    "end_date_str = str(int(end_date.timestamp() * 1000))\n",
    "class TradingView(widgets.DOMWidget):\n",
    "    _view_module = Unicode('nbextensions/tradingview').tag(sync=True)\n",
    "    _view_name = Unicode('TradingView').tag(sync=True)\n",
    "    symbol = Unicode('').tag(sync=True)\n",
    "\n",
    "def tradingview_widget(ticker):\n",
    "    tv = TradingView()\n",
    "    tv.symbol = ticker\n",
    "    display(HTML(\"\"\"\n",
    "        <script type=\"text/javascript\" src=\"https://s3.tradingview.com/tv.js\"></script>\n",
    "        <div id=\"tv_chart_container\"></div>\n",
    "        <script type=\"text/javascript\">\n",
    "        new TradingView.widget(\n",
    "        {{\n",
    "          \"width\": \"100%\",\n",
    "          \"height\": 600,\n",
    "          \"symbol\": \"{ticker}\",\n",
    "          \"interval\": \"D\",\n",
    "          \"timezone\": \"Etc/UTC\",\n",
    "          \"theme\": \"dark\",\n",
    "          \"style\": \"1\",\n",
    "          \"locale\": \"en\",\n",
    "          \"toolbar_bg\": \"#f1f3f6\",\n",
    "          \"enable_publishing\": false,\n",
    "          \"allow_symbol_change\": true,\n",
    "          \"container_id\": \"tv_chart_container\"\n",
    "        }}\n",
    "        );\n",
    "        </script>\n",
    "    \"\"\".format(ticker=ticker)))\n",
    "    return tv\n",
    "\n",
    "tradingview_widget('Binance:BTCUSD')\n"
   ]
  },
  {
   "cell_type": "code",
   "execution_count": null,
   "id": "324bbdba-9d43-4bb2-9c6a-56675882d017",
   "metadata": {},
   "outputs": [],
   "source": []
  }
 ],
 "metadata": {
  "kernelspec": {
   "display_name": "Python 3 (ipykernel)",
   "language": "python",
   "name": "python3"
  },
  "language_info": {
   "codemirror_mode": {
    "name": "ipython",
    "version": 3
   },
   "file_extension": ".py",
   "mimetype": "text/x-python",
   "name": "python",
   "nbconvert_exporter": "python",
   "pygments_lexer": "ipython3",
   "version": "3.10.8"
  }
 },
 "nbformat": 4,
 "nbformat_minor": 5
}
