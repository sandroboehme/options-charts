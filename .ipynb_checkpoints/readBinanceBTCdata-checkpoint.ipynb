{
 "cells": [
  {
   "cell_type": "markdown",
   "id": "9f058922-8e13-4b94-8b46-7772f8b4fcc4",
   "metadata": {},
   "source": [
    "## Download Bitcoin data from Binance"
   ]
  },
  {
   "cell_type": "code",
   "execution_count": 3,
   "id": "4e9702b3-aa8b-4ffb-b68c-2c159d919002",
   "metadata": {
    "tags": []
   },
   "outputs": [
    {
     "name": "stdout",
     "output_type": "stream",
     "text": [
      "1\n",
      "2\n",
      "3\n",
      "4\n",
      "5\n",
      "6\n",
      "7\n",
      "8\n",
      "9\n",
      "10\n"
     ]
    }
   ],
   "source": [
    "import requests\n",
    "import json\n",
    "import time\n",
    "\n",
    "# Set the start and end times for the API calls\n",
    "start_time = 1535760000 # September 1st, 2018 in Unix timestamp format\n",
    "end_time =   1682765212 # Today\n",
    "\n",
    "# Set the symbol and interval for the API calls\n",
    "symbol = 'BTCUSDT'\n",
    "interval = '1d'\n",
    "\n",
    "# Create an empty list to store the results\n",
    "results = []\n",
    "\n",
    "calls = 0\n",
    "\n",
    "# Loop through the time range in 1 week intervals and call the API\n",
    "while start_time < end_time:\n",
    "    calls += 1\n",
    "    \n",
    "    # Build the API endpoint URL\n",
    "    url = f'https://api.binance.com/api/v3/klines?symbol={symbol}&interval={interval}&startTime={start_time}&endTime={start_time + (86400 * 7 * 26)}'\n",
    "\n",
    "    # Make the API call\n",
    "    response = requests.get(url)\n",
    "\n",
    "    # Parse the JSON response and append the results to the list\n",
    "    results += json.loads(response.text)\n",
    "\n",
    "    # Increment the start time by 26 weeks (half a year)\n",
    "    start_time += 86400 * 7 * 26\n",
    "    \n",
    "    print(calls)\n",
    "\n",
    "    # Pause for 1 second between API calls to avoid rate limiting\n",
    "    time.sleep(1)\n",
    "\n",
    "# Write the concatenated results to a file\n",
    "with open('binance_data.json', 'w') as f:\n",
    "    json.dump(results, f)\n"
   ]
  },
  {
   "cell_type": "code",
   "execution_count": null,
   "id": "cebb10f0-60a6-41e3-b7d8-a39f0f69ac05",
   "metadata": {},
   "outputs": [],
   "source": []
  }
 ],
 "metadata": {
  "kernelspec": {
   "display_name": "Python 3 (ipykernel)",
   "language": "python",
   "name": "python3"
  },
  "language_info": {
   "codemirror_mode": {
    "name": "ipython",
    "version": 3
   },
   "file_extension": ".py",
   "mimetype": "text/x-python",
   "name": "python",
   "nbconvert_exporter": "python",
   "pygments_lexer": "ipython3",
   "version": "3.10.8"
  }
 },
 "nbformat": 4,
 "nbformat_minor": 5
}
