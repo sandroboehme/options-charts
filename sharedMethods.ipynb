{
 "cells": [
  {
   "cell_type": "markdown",
   "id": "ef5899a7-980e-4e8d-91bf-90af6a25b9f7",
   "metadata": {},
   "source": [
    "## Reusable methods to be included in other Notebook files"
   ]
  },
  {
   "cell_type": "code",
   "execution_count": 1,
   "id": "c436ff96-3317-43b5-bb64-5ee364e24417",
   "metadata": {
    "tags": []
   },
   "outputs": [],
   "source": [
    "import pandas as pd\n",
    "import plotly.graph_objects as go\n",
    "import plotly.express as px\n",
    "import requests\n",
    "import json\n",
    "import time\n",
    "from IPython.display import Markdown\n",
    "import os.path\n",
    "import random\n",
    "import hashlib"
   ]
  },
  {
   "cell_type": "code",
   "execution_count": 2,
   "id": "3078ce6d-57c4-4450-9e88-f64fdd5028df",
   "metadata": {
    "tags": []
   },
   "outputs": [],
   "source": [
    "# colors with a good contrast to white and among each other\n",
    "# I use black for BTC\n",
    "colors = ['red', 'orange', 'green', 'purple', 'brown', 'pink', 'olive', 'cyan', 'grey'] # add more colors if needed\n"
   ]
  },
  {
   "cell_type": "code",
   "execution_count": 3,
   "id": "11a021bf-3c8c-4988-b888-ff966f7c7267",
   "metadata": {
    "tags": []
   },
   "outputs": [],
   "source": [
    "from IPython.display import IFrame\n",
    "def getTradingViewWidget(ticker=\"Coinbase:BTCUSD\"):\n",
    "    chart_id = \"xxxxx\"\n",
    "    # Unfortunately that doesn't work \n",
    "    # https://www.tradingview.com/charting-library-docs/latest/api/interfaces/Charting_Library.ChartingLibraryWidgetOptions/#timeframe\n",
    "    # &timeframe={{from:1640995200,to:1643673600}}\n",
    "    # &timeframe=%7Bfrom%3A1640995200%2Cto%3A1643673600%7D\n",
    "    # As well as the inverval and probably other parameters\n",
    "    src = f'''https://s.tradingview.com/widgetembed/?frameElementId=tradingview_{chart_id}\n",
    "    &symbol={ticker}&interval=D&hidesidetoolbar=1&symboledit=1&saveimage=0&toolbarbg=f1f3f6&studies=%5B%5D&style=1&timezone=UTC&timeframe=%7Bfrom%3A1640995200%2Cto%3A1643673600%7D\"\n",
    "    '''\n",
    "    return IFrame(src, '100%', '600px')\n"
   ]
  },
  {
   "cell_type": "code",
   "execution_count": 4,
   "id": "c561dfe7-1618-4706-bb93-7862fcf5f8d9",
   "metadata": {},
   "outputs": [],
   "source": [
    "#getTradingViewWidget()"
   ]
  },
  {
   "cell_type": "code",
   "execution_count": 5,
   "id": "32baf335-48f0-4f90-9408-af1c1527d93c",
   "metadata": {
    "tags": []
   },
   "outputs": [],
   "source": [
    "def showPlainPriceChart(df, strike_prices):\n",
    "    fig = go.Figure()\n",
    "    min_price = 0\n",
    "    max_price = 0\n",
    "    for i, strike_price in enumerate(strike_prices):\n",
    "        df_strike = df[f'option_{strike_price}_usd']\n",
    "        min_price = min(min_price, df_strike.min())\n",
    "        max_price = max(max_price, df_strike.max())\n",
    "        fig.add_trace(go.Scatter(x=df['timestamp'], \n",
    "                                 y=df_strike, \n",
    "                                 name=f'Option {strike_price}', \n",
    "                                 yaxis='y', \n",
    "                                 line=dict(color=colors[i])))\n",
    "        \n",
    "    fig.add_trace(go.Scatter(x=df['timestamp'], \n",
    "                             y=df['btc_usd'], \n",
    "                             name='BTC', \n",
    "                             yaxis='y', \n",
    "                             line=dict(color=\"black\")))\n",
    "    \n",
    "    range = [min(min_price, df['btc_usd'].min()), max(max_price, df['btc_usd'].max())]\n",
    "    \n",
    "    fig.update_layout(width=1300, height=800)\n",
    "    fig.update_layout(title=\"Plain prices in USD\", yaxis=dict(title='Prices in USD', range=range))\n",
    "    fig.update_traces(connectgaps=False)\n",
    "    fig.show()"
   ]
  },
  {
   "cell_type": "code",
   "execution_count": 6,
   "id": "1bdbdadc-e78e-416a-8298-900a445e853f",
   "metadata": {
    "tags": []
   },
   "outputs": [],
   "source": [
    "class Config:\n",
    "    def __init__(self, config_dict):\n",
    "        self.__dict__.update(config_dict)"
   ]
  },
  {
   "cell_type": "code",
   "execution_count": 7,
   "id": "90155a89-567d-45f9-a310-d4c81b421a65",
   "metadata": {
    "tags": []
   },
   "outputs": [],
   "source": [
    "def getBTCCallInstrumentName(expiration, strike):\n",
    "    instrument = 'BTC-' + expiration + '-' + str(strike) + '-C'\n",
    "    return instrument"
   ]
  },
  {
   "cell_type": "code",
   "execution_count": 8,
   "id": "b852d593-acd8-46cf-b3d9-8de239f16d11",
   "metadata": {
    "tags": []
   },
   "outputs": [],
   "source": [
    "def getInstrumentJson(instrumentName):\n",
    "    fileName = \"option_data/\" + instrumentName + \".json\"\n",
    "    if os.path.isfile(fileName):\n",
    "        display(f\"{fileName} exist already.\")\n",
    "        df = pd.read_json(fileName)\n",
    "        return pd.json_normalize(df.trades)\n",
    "    else:\n",
    "        print(f\"Downloading to {fileName}.\")\n",
    "        url = f'https://history.deribit.com/api/v2/public/get_last_trades_by_instrument?instrument_name={instrumentName}&count=10000&include_old=true'\n",
    "\n",
    "        response = requests.get(url)\n",
    "\n",
    "        # Parse the JSON response\n",
    "        result = json.loads(response.text)['result']\n",
    "        with open(fileName, 'w') as f:\n",
    "            json.dump(result, f)\n",
    "        return pd.json_normalize(result['trades'])\n",
    "    df = df.drop_duplicates(subset=['timestamp'])\n",
    "    return df"
   ]
  },
  {
   "cell_type": "code",
   "execution_count": 9,
   "id": "52b508c3-7aba-4c03-822f-17cdd577af9a",
   "metadata": {
    "tags": []
   },
   "outputs": [],
   "source": [
    "def getBTCdataframe():\n",
    "    btc_ohlc = pd.read_json('bitstamp-btc-ohlc.json')\n",
    "    btc_ohlc['timestamp'] = pd.to_datetime(btc_ohlc['timestamp']).dt.date\n",
    "    btc_ohlc = btc_ohlc.loc[:, ['timestamp', 'close']].copy()\n",
    "    return btc_ohlc"
   ]
  },
  {
   "cell_type": "code",
   "execution_count": 10,
   "id": "f1e68284-3017-4cbb-b536-7825a39434f3",
   "metadata": {
    "tags": []
   },
   "outputs": [],
   "source": [
    "def getOptionDataframe(expiration, strike):\n",
    "    df = getInstrumentJson(getBTCCallInstrumentName(expiration, strike))\n",
    "    df[\"timestamp\"] = pd.to_datetime(df[\"timestamp\"], unit='ms').dt.date\n",
    "    df = df.loc[:, ['timestamp', 'price']].copy()\n",
    "    df = df.drop_duplicates(subset=['timestamp'])\n",
    "    return df"
   ]
  },
  {
   "cell_type": "code",
   "execution_count": 11,
   "id": "07077eed-d524-4ff7-89e9-1dc6abfc3dbd",
   "metadata": {
    "tags": []
   },
   "outputs": [],
   "source": [
    "def getMergedDataframe(config):\n",
    "    merged_df = getOptionDataframe(config.expiration, config.strikes[0])\n",
    "    merged_df.rename({'price': f'option_{config.strikes[0]}_usd'}, axis=1, inplace=True)\n",
    "\n",
    "    for i, strike_price in enumerate(config.strikes[1:]):\n",
    "        dfStrike = getOptionDataframe(config.expiration, config.strikes[i])\n",
    "        dfStrike.rename({'price': f'option_{strike_price}_usd'}, axis=1, inplace=True)\n",
    "        merged_df = pd.merge(merged_df, dfStrike, on='timestamp', how='outer')\n",
    "        \n",
    "    btc_ohlc = getBTCdataframe()\n",
    "    # Join options with BTC prices for all option timestamp that are contained within the btc_ohlc\n",
    "    # but not the ones that are contained within btc_ohlc but don't exist in the merged_df of the options.\n",
    "    merged_df = pd.merge(btc_ohlc, merged_df, on='timestamp', how='right')\n",
    "    merged_df = merged_df.drop_duplicates(subset=['timestamp'])\n",
    "    merged_df.rename({'close': 'btc_usd'}, axis=1, inplace=True)\n",
    "    \n",
    "    for i, strike_price in enumerate(config.strikes):\n",
    "        merged_df[f'option_{strike_price}_usd'] = merged_df[f'option_{strike_price}_usd'] * merged_df['btc_usd']\n",
    "    \n",
    "    return merged_df\n"
   ]
  },
  {
   "cell_type": "code",
   "execution_count": 12,
   "id": "d892b82c-0b69-47c7-a104-597c8ce342cf",
   "metadata": {},
   "outputs": [],
   "source": [
    "def showOffsettedPriceChart(df, strike_prices):\n",
    "    fig = go.Figure()\n",
    "\n",
    "    min_price = df['btc_usd'].min()\n",
    "    max_price = df['btc_usd'].max()\n",
    "    for i, strike_price in enumerate(strike_prices):\n",
    "        df_strike = df[f'option_{strike_price}_offsetted_usd']\n",
    "        min_price = min(min_price, df_strike.min())\n",
    "        max_price = max(max_price, df_strike.max())\n",
    "        fig.add_trace(go.Scatter(x=df['timestamp'], \n",
    "                                 y=df_strike, \n",
    "                                 name=f'Option {strike_price}', \n",
    "                                 yaxis='y', \n",
    "                                 line=dict(color=colors[i])))\n",
    "        \n",
    "    fig.add_trace(go.Scatter(x=merged_df['timestamp'],\n",
    "                             y=merged_df['btc_usd'],\n",
    "                             name='BTC', \n",
    "                             yaxis='y',\n",
    "                             line=dict(color=\"black\")))\n",
    "\n",
    "    range = [min(min_price, df['btc_usd'].min()), max(max_price, df['btc_usd'].max())]\n",
    "\n",
    "    fig.update_layout(width=1300, height=800)\n",
    "\n",
    "    fig.update_layout(title=\"Option prices moved to start at the same point as BTC to visualize the delta\", yaxis=dict(title='Prices in USD', range=range))\n",
    "\n",
    "    fig.show()"
   ]
  },
  {
   "cell_type": "code",
   "execution_count": 13,
   "id": "61c2d21c-a7de-4d26-b315-a9b490d2fc92",
   "metadata": {
    "tags": []
   },
   "outputs": [],
   "source": [
    "def shiftLinesToTheStartOfBTC(df, strike_prices):\n",
    "    firstBTCprice = df.loc[df.index[-1], 'btc_usd']\n",
    "    \n",
    "    for i, strike_price in enumerate(config.strikes):\n",
    "        firstOptionPrice = df.loc[df.index[-1], f'option_{strike_price}_usd']\n",
    "        strike_offset = firstBTCprice - firstOptionPrice\n",
    "        df[f'option_{strike_price}_offsetted_usd'] = df[f'option_{strike_price}_usd'] + strike_offset\n",
    "\n",
    "#    return df\n"
   ]
  },
  {
   "cell_type": "code",
   "execution_count": 14,
   "id": "b5ec2d69-5a1e-4736-815e-ecdd00324a64",
   "metadata": {
    "tags": []
   },
   "outputs": [],
   "source": [
    "def getPriceChanges(df, strike_prices):\n",
    "    dfNew = pd.DataFrame(df['timestamp'])\n",
    "    dfNew = pd.concat([dfNew, df['btc_usd']], axis=1)\n",
    "\n",
    "    for i, strike_price in enumerate(strike_prices):\n",
    "        strike_col = df[f'option_{strike_price}_usd']\n",
    "        dfNew[f'option_{strike_price}_changed_usd'] = strike_col - strike_col.shift(-1)\n",
    "        dfNew[f'option_{strike_price}_changed_percent'] = dfNew[f'option_{strike_price}_changed_usd'] / (df[f'option_{strike_price}_usd']/100)\n",
    "    dfNew['btc_usd_changed_usd'] =  df['btc_usd'] - df['btc_usd'].shift(-1)\n",
    "    dfNew['btc_usd_changed_percent'] = dfNew['btc_usd_changed_usd'] / (df['btc_usd']/100)\n",
    "    return dfNew"
   ]
  },
  {
   "cell_type": "code",
   "execution_count": 15,
   "id": "5aaab909-7d73-4710-a155-36639d25eaf8",
   "metadata": {},
   "outputs": [],
   "source": [
    "def plotOptionPricesChangedUSD(df, strikes):\n",
    "    \n",
    "    fig = go.Figure()\n",
    "    \n",
    "    for i, strike in enumerate(strikes):\n",
    "        fig.add_trace(go.Scatter(x=df['timestamp'],\n",
    "                                 y=df[f'option_{strike}_changed_usd'],\n",
    "                                 name=f'Option {strike}', yaxis='y',\n",
    "                                 line=dict(color=colors[i % len(colors)])))\n",
    "    \n",
    "    fig.add_trace(go.Scatter(x=df['timestamp'],\n",
    "                             y=df['btc_usd_changed_usd'],\n",
    "                             name='BTC', yaxis='y',\n",
    "                             line=dict(color='black')))\n",
    "    \n",
    "    fig.add_trace(go.Scatter(x=df['timestamp'],\n",
    "                             y=df['btc_usd'],\n",
    "                             name='BTC price in USD on separate axis', yaxis='y2',\n",
    "                             line=dict(color='gold')))\n",
    "    \n",
    "    range = [min([df[f'option_{strike}_changed_usd'].min() for strike in strikes] + [df['btc_usd_changed_usd'].min()]),\n",
    "             max([df[f'option_{strike}_changed_usd'].max() for strike in strikes] + [df['btc_usd_changed_usd'].max()])]\n",
    "    \n",
    "    fig.update_layout(width=1600, height=800)\n",
    "    fig.update_layout(title=\"Absolute changes in USD vs BTC price\",\n",
    "                      yaxis=dict(title='Absolute changes in USD', range=range),\n",
    "                      yaxis2=dict(title='BTC in USD (in gold)',\n",
    "                                  range=[df['btc_usd'].min(), df['btc_usd'].max()],\n",
    "                                  overlaying='y', side='right'))\n",
    "    \n",
    "    fig.show()"
   ]
  },
  {
   "cell_type": "code",
   "execution_count": 16,
   "id": "74ac4c5e-159a-4024-8d57-673a82f9228a",
   "metadata": {
    "tags": []
   },
   "outputs": [],
   "source": [
    "def plotOptionPricesChangedPercent(df, strikes):\n",
    "    \n",
    "    fig = go.Figure()\n",
    "    \n",
    "    for i, strike in enumerate(strikes):\n",
    "        fig.add_trace(go.Scatter(x=df['timestamp'],\n",
    "                                 y=df[f'option_{strike}_changed_percent'],\n",
    "                                 name=f'% change option {strike}', yaxis='y',\n",
    "                                 line=dict(color=colors[i % len(colors)])))\n",
    "    \n",
    "    fig.add_trace(go.Scatter(x=df['timestamp'],\n",
    "                             y=df['btc_usd_changed_percent'],\n",
    "                             name='% change BTC', yaxis='y',\n",
    "                             line=dict(color='black')))\n",
    "\n",
    "    fig.add_trace(go.Scatter(x=df['timestamp'],\n",
    "                             y=df['btc_usd'],\n",
    "                             name='BTC price in USD on separate axis', yaxis='y2',\n",
    "                             line=dict(color='gold')))\n",
    "    '''\n",
    "    '''\n",
    "    range = [min([df[f'option_{strike}_changed_percent'].min() for strike in strikes] + [df['btc_usd_changed_percent'].min()]),\n",
    "             max([df[f'option_{strike}_changed_percent'].max() for strike in strikes] + [df['btc_usd_changed_percent'].max()])]\n",
    "    \n",
    "    fig.update_layout(width=1600, height=800)\n",
    "    fig.update_layout(title=\"Changes in % vs BTC price\",\n",
    "                      yaxis=dict(title='Changes in %', range=range),\n",
    "                      yaxis2=dict(title='BTC in USD (in gold)',\n",
    "                                  range=[df['btc_usd'].min(), df['btc_usd'].max()],\n",
    "                                  overlaying='y', side='right')\n",
    "                     )\n",
    "    \n",
    "    fig.show()"
   ]
  },
  {
   "cell_type": "code",
   "execution_count": 17,
   "id": "290ff690-1b0d-4385-b329-709bcfbd8fab",
   "metadata": {
    "tags": []
   },
   "outputs": [],
   "source": [
    "def plotOptionPricesChangedPercentAll(df, strikes):\n",
    "    \n",
    "    fig = go.Figure()\n",
    "    \n",
    "    for i, strike in enumerate(strikes):\n",
    "        fig.add_trace(go.Scatter(x=df['timestamp'],\n",
    "                                 y=df[f'option_{strike}_percent_all'],\n",
    "                                 name=f'% change {strike} option', yaxis='y',\n",
    "                                 line=dict(color=colors[i % len(colors)])))\n",
    "    \n",
    "    fig.add_trace(go.Scatter(x=df['timestamp'],\n",
    "                             y=df['btc_percent_all'],\n",
    "                             name='% change BTC', yaxis='y',\n",
    "                             line=dict(color='black')))\n",
    "\n",
    "    fig.add_trace(go.Scatter(x=df['timestamp'],\n",
    "                             y=df['btc_usd'],\n",
    "                             name='BTC price in USD on separate axis', yaxis='y2',\n",
    "                             line=dict(color='gold')))\n",
    "    '''\n",
    "    '''\n",
    "    range = [min([df[f'option_{strike}_percent_all'].min() for strike in strikes] + [df['btc_percent_all'].min()]),\n",
    "             max([df[f'option_{strike}_percent_all'].max() for strike in strikes] + [df['btc_percent_all'].max()]) * 1.01]\n",
    "    \n",
    "    fig.update_layout(width=1600, height=800)\n",
    "    fig.update_layout(title=\"Complete changes in % vs BTC price\",\n",
    "                      yaxis=dict(title='Complete changes in %', range=range),\n",
    "                      yaxis2=dict(title='BTC in USD (in gold)',\n",
    "                                  range=[df['btc_usd'].min(), df['btc_usd'].max() * 1.01],\n",
    "                                  overlaying='y', side='right')\n",
    "                     )\n",
    "    \n",
    "    fig.show()"
   ]
  },
  {
   "cell_type": "code",
   "execution_count": 18,
   "id": "17110ab1-12d6-44b3-8263-814684663a2c",
   "metadata": {
    "tags": []
   },
   "outputs": [],
   "source": [
    "def calcGains(df, strikes):\n",
    "    dfNew = pd.DataFrame(df['timestamp'])\n",
    "    dfNew = pd.concat([dfNew, df['btc_usd']], axis=1)\n",
    "\n",
    "    dfNew.loc[:, 'btc_percent_all'] = (df['btc_usd'] - df.loc[df.index[-1], 'btc_usd']) / (df.loc[df.index[-1], 'btc_usd'] / 100)\n",
    "\n",
    "    for i, strike_price in enumerate(strikes):\n",
    "        option_usd_col_name = f'option_{strike_price}_usd'\n",
    "        dfNew[option_usd_col_name] = df[option_usd_col_name].copy()\n",
    "        dfNew[f'option_{strike_price}_percent_all'] = ( \n",
    "            df[option_usd_col_name] \n",
    "            - \n",
    "            df.loc[df[option_usd_col_name].last_valid_index(), option_usd_col_name]\n",
    "        ) / (\n",
    "            df.loc[df[option_usd_col_name].last_valid_index(), option_usd_col_name] \n",
    "            / \n",
    "            100\n",
    "        )\n",
    "    return dfNew\n"
   ]
  },
  {
   "cell_type": "code",
   "execution_count": null,
   "id": "0e0b2ae6-41d9-4704-9b72-4828e7b17c58",
   "metadata": {},
   "outputs": [],
   "source": []
  }
 ],
 "metadata": {
  "kernelspec": {
   "display_name": "Python 3 (ipykernel)",
   "language": "python",
   "name": "python3"
  },
  "language_info": {
   "codemirror_mode": {
    "name": "ipython",
    "version": 3
   },
   "file_extension": ".py",
   "mimetype": "text/x-python",
   "name": "python",
   "nbconvert_exporter": "python",
   "pygments_lexer": "ipython3",
   "version": "3.9.7"
  }
 },
 "nbformat": 4,
 "nbformat_minor": 5
}
